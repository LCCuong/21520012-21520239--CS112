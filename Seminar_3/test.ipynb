{
  "nbformat": 4,
  "nbformat_minor": 0,
  "metadata": {
    "colab": {
      "provenance": []
    },
    "kernelspec": {
      "name": "python3",
      "display_name": "Python 3"
    },
    "language_info": {
      "name": "python"
    }
  },
  "cells": [
    {
      "cell_type": "markdown",
      "source": [
        "# problem 1"
      ],
      "metadata": {
        "id": "f9WKAfqOPkJ5"
      }
    },
    {
      "cell_type": "code",
      "execution_count": 70,
      "metadata": {
        "colab": {
          "base_uri": "https://localhost:8080/"
        },
        "id": "E672OkRxI1rI",
        "outputId": "40bb0d83-3c44-40b6-8c61-f7035f2400b4"
      },
      "outputs": [
        {
          "output_type": "execute_result",
          "data": {
            "text/plain": [
              "2997"
            ]
          },
          "metadata": {},
          "execution_count": 70
        }
      ],
      "source": [
        "len(str(999**999))"
      ]
    },
    {
      "cell_type": "code",
      "source": [
        "import random\n",
        "random.seed()"
      ],
      "metadata": {
        "id": "5KiRRKsgJILP"
      },
      "execution_count": 71,
      "outputs": []
    },
    {
      "cell_type": "code",
      "source": [
        "!mkdir Input\n",
        "!mkdir Output"
      ],
      "metadata": {
        "id": "nVKM-iX0Jg9c"
      },
      "execution_count": 72,
      "outputs": []
    },
    {
      "cell_type": "markdown",
      "source": [
        "##Boundary test cases"
      ],
      "metadata": {
        "id": "aJjpDjxwqZKD"
      }
    },
    {
      "cell_type": "code",
      "source": [
        "with open(\"/content/Input/input99.inp\", \"w\") as f:\n",
        "    f.write(str(2) + \"\\n\")\n",
        "with open(\"/content/Input/input99.inp\", \"a\") as f:\n",
        "        f.write(str(1) + \" \" + str(1) + \"\\n\")\n",
        "with open(\"/content/Input/input99.inp\", \"a\") as f:\n",
        "        f.write(str(1000) + \" \" + str(1000) + \"\\n\")\n",
        "with open(\"/content/Output/output99.out\", \"a\") as f:\n",
        "        f.write(str(2) + \"\\n\")\n",
        "with open(\"/content/Output/output99.out\", \"a\") as f:\n",
        "        f.write(str(2*1000**1000) + \"\\n\")\n",
        "######################################################\n",
        "with open(\"/content/Input/input100.inp\", \"w\") as f:\n",
        "    f.write(str(200) + \"\\n\")\n",
        "\n",
        "for _ in range(200):\n",
        "    a = random.randint(1, 1000)\n",
        "    b = random.randint(1, 1000)\n",
        "    result = a**b + b**a\n",
        "    with open(\"/content/Input/input100.inp\", \"a\") as f:\n",
        "        f.write(str(a) + \" \" + str(b) + \"\\n\")\n",
        "    with open(\"/content/Output/output100.out\", \"a\") as f:\n",
        "        f.write(str(result) + \"\\n\")"
      ],
      "metadata": {
        "id": "Ga-hm72Oqnly"
      },
      "execution_count": 73,
      "outputs": []
    },
    {
      "cell_type": "code",
      "source": [
        "for i in range(1,99):\n",
        "  t = random.randint(1, 200)\n",
        "  with open(\"/content/Input/input\" + str(i) + \".inp\", \"w\") as f:\n",
        "    f.write(str(t) + \"\\n\")\n",
        "\n",
        "  for _ in range(t):\n",
        "    a = random.randint(1, 1000)\n",
        "    b = random.randint(1, 1000)\n",
        "    result = a**b + b**a\n",
        "    with open(\"/content/Input/input\" + str(i) + \".inp\", \"a\") as f:\n",
        "        f.write(str(a) + \" \" + str(b) + \"\\n\")\n",
        "    with open(\"/content/Output/output\" + str(i) + \".out\", \"a\") as f:\n",
        "        f.write(str(result) + \"\\n\")"
      ],
      "metadata": {
        "id": "tpYVCb9_Jodq"
      },
      "execution_count": 74,
      "outputs": []
    },
    {
      "cell_type": "code",
      "source": [
        "!mkdir problem1"
      ],
      "metadata": {
        "id": "D_KKk4-HLA3f"
      },
      "execution_count": 75,
      "outputs": []
    },
    {
      "cell_type": "code",
      "source": [
        "!mv Input problem1\n",
        "!mv Output problem1"
      ],
      "metadata": {
        "id": "o-W8PpchMpDa"
      },
      "execution_count": 76,
      "outputs": []
    },
    {
      "cell_type": "code",
      "source": [
        "!zip \"problem1\""
      ],
      "metadata": {
        "colab": {
          "base_uri": "https://localhost:8080/"
        },
        "id": "2JP_yxMLMypE",
        "outputId": "8d8ae648-f11f-4b24-cc7b-b430efbab91d"
      },
      "execution_count": 77,
      "outputs": [
        {
          "output_type": "stream",
          "name": "stdout",
          "text": [
            "\n",
            "zip error: Nothing to do! (problem1.zip)\n"
          ]
        }
      ]
    },
    {
      "cell_type": "code",
      "source": [
        "!mv problem1 /content/drive/MyDrive/CS112"
      ],
      "metadata": {
        "id": "U2AZi13kNP46",
        "colab": {
          "base_uri": "https://localhost:8080/"
        },
        "outputId": "b8d406f5-e674-4bbb-983d-45a2f23f2144"
      },
      "execution_count": 78,
      "outputs": [
        {
          "output_type": "stream",
          "name": "stdout",
          "text": [
            "mv: inter-device move failed: 'problem1' to '/content/drive/MyDrive/CS112/problem1'; unable to remove target: Directory not empty\n"
          ]
        }
      ]
    },
    {
      "cell_type": "markdown",
      "source": [
        "#problem 2"
      ],
      "metadata": {
        "id": "aoXUgSzwPnJ2"
      }
    },
    {
      "cell_type": "code",
      "source": [
        "!rm -rf Input\n",
        "!rm -rf Output"
      ],
      "metadata": {
        "id": "0NhknIDUYj-1"
      },
      "execution_count": 79,
      "outputs": []
    },
    {
      "cell_type": "code",
      "source": [
        "!mkdir Input\n",
        "!mkdir Output"
      ],
      "metadata": {
        "id": "GFiCBRqiQShH"
      },
      "execution_count": 80,
      "outputs": []
    },
    {
      "cell_type": "code",
      "source": [
        "import math"
      ],
      "metadata": {
        "id": "mvhT1uUTSlKz"
      },
      "execution_count": 81,
      "outputs": []
    },
    {
      "cell_type": "code",
      "source": [
        "def task1(a,b,c):\n",
        "    return (a*b)%c"
      ],
      "metadata": {
        "id": "1lGgLnZEYyN4"
      },
      "execution_count": 82,
      "outputs": []
    },
    {
      "cell_type": "code",
      "source": [
        "def task2(a,b,c):\n",
        "    lcm = math.lcm(b, c)\n",
        "\n",
        "    if b==c:\n",
        "      result = a\n",
        "    else:\n",
        "      result = 0\n",
        "    \n",
        "      div = a//lcm\n",
        "\n",
        "      if div == 0:\n",
        "        result += min(b, c)\n",
        "      else:\n",
        "        result += div * min(b, c)\n",
        "        result += min(b, c, a - div*lcm + 1)\n",
        "    return result - 1"
      ],
      "metadata": {
        "id": "3IV_IM_pYHgy"
      },
      "execution_count": 83,
      "outputs": []
    },
    {
      "cell_type": "code",
      "source": [
        "task2(31,5,6)"
      ],
      "metadata": {
        "colab": {
          "base_uri": "https://localhost:8080/"
        },
        "id": "HrPoOi2f7KN6",
        "outputId": "620458e2-5757-499a-ea42-1704a9a532b7"
      },
      "execution_count": 84,
      "outputs": [
        {
          "output_type": "execute_result",
          "data": {
            "text/plain": [
              "6"
            ]
          },
          "metadata": {},
          "execution_count": 84
        }
      ]
    },
    {
      "cell_type": "markdown",
      "source": [
        "##subtask 1:"
      ],
      "metadata": {
        "id": "IGfUtmaQRSiR"
      }
    },
    {
      "cell_type": "code",
      "source": [
        "for i in range(1, 21):\n",
        "  q= random.randint(1, 10**5)\n",
        "  with open(\"/content/Input/input\" + str(i) + \".inp\", \"w\") as f:\n",
        "    f.write(str(q) + \"\\n\")\n",
        "  \n",
        "  for _ in range(q):\n",
        "    a = random.randint(1, 10**9)\n",
        "    b = random.randint(1, 10**9)\n",
        "    c = random.randint(1, 10**9)\n",
        "    result = task1(a,b,c)\n",
        "    with open(\"/content/Input/input\" + str(i) + \".inp\", \"a\") as f:\n",
        "        f.write(\"1 \" + str(a) + \" \" + str(b) + \" \" + str(c) + \"\\n\")\n",
        "    with open(\"/content/Output/output\" + str(i) + \".out\", \"a\") as f:\n",
        "        f.write(str(result) + \"\\n\")"
      ],
      "metadata": {
        "id": "wx8NR8q0OpI-"
      },
      "execution_count": 85,
      "outputs": []
    },
    {
      "cell_type": "markdown",
      "source": [
        "##subtask 2:"
      ],
      "metadata": {
        "id": "NfBP7EQqRm8K"
      }
    },
    {
      "cell_type": "code",
      "source": [
        "for i in range(21, 41):\n",
        "  q= random.randint(1, 10**3)\n",
        "  with open(\"/content/Input/input\" + str(i) + \".inp\", \"w\") as f:\n",
        "    f.write(str(q) + \"\\n\")\n",
        "  \n",
        "  for _ in range(q):\n",
        "    a = random.randint(1, 10**4)\n",
        "    b = random.randint(1, 10**2)\n",
        "    c = random.randint(1, 10**2)\n",
        "    while (max(b, c) > a):\n",
        "      a = random.randint(1, 10**4)\n",
        "      b = random.randint(1, 10**2)\n",
        "      c = random.randint(1, 10**2)\n",
        "    lcm = math.lcm(b, c)\n",
        "\n",
        "    result = task2(a,b,c)\n",
        "\n",
        "    with open(\"/content/Input/input\" + str(i) + \".inp\", \"a\") as f:\n",
        "        f.write(\"2 \" + str(a) + \" \" + str(b) + \" \" + str(c) + \"\\n\")\n",
        "    with open(\"/content/Output/output\" + str(i) + \".out\", \"a\") as f:\n",
        "        f.write(str(result-1) + \"\\n\")"
      ],
      "metadata": {
        "id": "oMyUX99pQ0vJ"
      },
      "execution_count": 86,
      "outputs": []
    },
    {
      "cell_type": "markdown",
      "source": [
        "##subtask 3"
      ],
      "metadata": {
        "id": "0qYjqFWnXrW6"
      }
    },
    {
      "cell_type": "code",
      "source": [
        "for i in range(41, 61):\n",
        "  q= random.randint(1, 10**5)\n",
        "  with open(\"/content/Input/input\" + str(i) + \".inp\", \"w\") as f:\n",
        "    f.write(str(q) + \"\\n\")\n",
        "  \n",
        "  for _ in range(q):\n",
        "    a = random.randint(1, 10**9)\n",
        "    b = random.randint(1, 10**5)\n",
        "    c = random.randint(1, 10**5)\n",
        "    while (max(b, c) > a):\n",
        "      a = random.randint(1, 10**9)\n",
        "      b = random.randint(1, 10**5)\n",
        "      c = random.randint(1, 10**5)\n",
        "    choice = random.randint(1,2)\n",
        "    if choice == 1:\n",
        "      result = task1(a,b,c)\n",
        "    if choice == 2:\n",
        "      result = task2(a,b,c)\n",
        "    \n",
        "    with open(\"/content/Input/input\" + str(i) + \".inp\", \"a\") as f:\n",
        "        f.write(str(choice) + \" \" + str(a) + \" \" + str(b) + \" \" + str(c) + \"\\n\")\n",
        "    with open(\"/content/Output/output\" + str(i) + \".out\", \"a\") as f:\n",
        "        f.write(str(result) + \"\\n\")"
      ],
      "metadata": {
        "id": "yNLKOhONWxYu"
      },
      "execution_count": 87,
      "outputs": []
    },
    {
      "cell_type": "markdown",
      "source": [
        "## task 4"
      ],
      "metadata": {
        "id": "4Uogiim7aEe7"
      }
    },
    {
      "cell_type": "code",
      "source": [
        "for i in range(61, 100):\n",
        "  q= random.randint(1, 10**5)\n",
        "  with open(\"/content/Input/input\" + str(i) + \".inp\", \"w\") as f:\n",
        "    f.write(str(q) + \"\\n\")\n",
        "  \n",
        "  for _ in range(q):\n",
        "    a = random.randint(1, 10**18)\n",
        "    b = random.randint(1, 10**12)\n",
        "    c = random.randint(1, 10**12)\n",
        "    while (max(b, c) > a):\n",
        "      a = random.randint(1, 10**18)\n",
        "      b = random.randint(1, 10**12)\n",
        "      c = random.randint(1, 10**12)\n",
        "    choice = random.randint(1,2)\n",
        "    if choice == 1:\n",
        "      result = task1(a,b,c)\n",
        "    if choice == 2:\n",
        "      result = task2(a,b,c)\n",
        "    \n",
        "    with open(\"/content/Input/input\" + str(i) + \".inp\", \"a\") as f:\n",
        "        f.write(str(choice) + \" \" + str(a) + \" \" + str(b) + \" \" + str(c) + \"\\n\")\n",
        "    with open(\"/content/Output/output\" + str(i) + \".out\", \"a\") as f:\n",
        "        f.write(str(result) + \"\\n\")"
      ],
      "metadata": {
        "id": "nuhj86W_Z7BO"
      },
      "execution_count": 88,
      "outputs": []
    },
    {
      "cell_type": "markdown",
      "source": [
        "##Boundary test case"
      ],
      "metadata": {
        "id": "An0l3pSAsLvb"
      }
    },
    {
      "cell_type": "code",
      "source": [
        "i = 100\n",
        "q = 10**5\n",
        "##query1\n",
        "with open(\"/content/Input/input\" + str(i) + \".inp\", \"w\") as f:\n",
        "    f.write(str(q) + \"\\n\")\n",
        "\n",
        "a=b=c=1\n",
        "with open(\"/content/Input/input\" + str(i) + \".inp\", \"a\") as f:\n",
        "    f.write(\"1 \" + str(a) + \" \" + str(b) + \" \" + str(c) + \"\\n\")\n",
        "with open(\"/content/Output/output\" + str(i) + \".out\", \"a\") as f:\n",
        "        f.write(str(task1(a,b,c)) + \"\\n\")\n",
        "\n",
        "a=b=c=10**9\n",
        "with open(\"/content/Input/input\" + str(i) + \".inp\", \"a\") as f:\n",
        "    f.write(\"1 \" + str(a) + \" \" + str(b) + \" \" + str(c) + \"\\n\")\n",
        "with open(\"/content/Output/output\" + str(i) + \".out\", \"a\") as f:\n",
        "        f.write(str(task1(a,b,c)) + \"\\n\")\n",
        "\n",
        "a=10**18\n",
        "b=c=1\n",
        "with open(\"/content/Input/input\" + str(i) + \".inp\", \"a\") as f:\n",
        "    f.write(\"1 \" + str(a) + \" \" + str(b) + \" \" + str(c) + \"\\n\")\n",
        "with open(\"/content/Output/output\" + str(i) + \".out\", \"a\") as f:\n",
        "        f.write(str(task1(a,b,c)) + \"\\n\")\n",
        "\n",
        "a=10**18\n",
        "b=c=10**12\n",
        "with open(\"/content/Input/input\" + str(i) + \".inp\", \"a\") as f:\n",
        "    f.write(\"1 \" + str(a) + \" \" + str(b) + \" \" + str(c) + \"\\n\")\n",
        "with open(\"/content/Output/output\" + str(i) + \".out\", \"a\") as f:\n",
        "        f.write(str(task1(a,b,c)) + \"\\n\")\n",
        "\n",
        "a=10**18\n",
        "b=10**12\n",
        "c=1\n",
        "with open(\"/content/Input/input\" + str(i) + \".inp\", \"a\") as f:\n",
        "    f.write(\"1 \" + str(a) + \" \" + str(b) + \" \" + str(c) + \"\\n\")\n",
        "with open(\"/content/Output/output\" + str(i) + \".out\", \"a\") as f:\n",
        "        f.write(str(task1(a,b,c)) + \"\\n\")\n",
        "\n",
        "a=10**18\n",
        "b=1\n",
        "c=10**12\n",
        "with open(\"/content/Input/input\" + str(i) + \".inp\", \"a\") as f:\n",
        "    f.write(\"1 \" + str(a) + \" \" + str(b) + \" \" + str(c) + \"\\n\")\n",
        "with open(\"/content/Output/output\" + str(i) + \".out\", \"a\") as f:\n",
        "        f.write(str(task1(a,b,c)) + \"\\n\")\n",
        "\n",
        "##query2\n",
        "a=b=c=1\n",
        "with open(\"/content/Input/input\" + str(i) + \".inp\", \"a\") as f:\n",
        "    f.write(\"2 \" + str(a) + \" \" + str(b) + \" \" + str(c) + \"\\n\")\n",
        "with open(\"/content/Output/output\" + str(i) + \".out\", \"a\") as f:\n",
        "        f.write(str(task2(a,b,c)) + \"\\n\")\n",
        "\n",
        "a=10**18\n",
        "b=c=1\n",
        "with open(\"/content/Input/input\" + str(i) + \".inp\", \"a\") as f:\n",
        "    f.write(\"2 \" + str(a) + \" \" + str(b) + \" \" + str(c) + \"\\n\")\n",
        "with open(\"/content/Output/output\" + str(i) + \".out\", \"a\") as f:\n",
        "        f.write(str(task2(a,b,c)) + \"\\n\")\n",
        "\n",
        "a=10**18\n",
        "b=c=10**12\n",
        "with open(\"/content/Input/input\" + str(i) + \".inp\", \"a\") as f:\n",
        "    f.write(\"2 \" + str(a) + \" \" + str(b) + \" \" + str(c) + \"\\n\")\n",
        "with open(\"/content/Output/output\" + str(i) + \".out\", \"a\") as f:\n",
        "        f.write(str(task2(a,b,c)) + \"\\n\")\n",
        "\n",
        "a=10**18\n",
        "b=10**12\n",
        "c=1\n",
        "with open(\"/content/Input/input\" + str(i) + \".inp\", \"a\") as f:\n",
        "    f.write(\"2 \" + str(a) + \" \" + str(b) + \" \" + str(c) + \"\\n\")\n",
        "with open(\"/content/Output/output\" + str(i) + \".out\", \"a\") as f:\n",
        "        f.write(str(task2(a,b,c)) + \"\\n\")\n",
        "\n",
        "\n",
        "for _ in range(q-10):\n",
        "    a = random.randint(1, 10**18)\n",
        "    b = random.randint(1, 10**12)\n",
        "    c = random.randint(1, 10**12)\n",
        "    while (max(b, c) > a):\n",
        "      a = random.randint(1, 10**18)\n",
        "      b = random.randint(1, 10**12)\n",
        "      c = random.randint(1, 10**12)\n",
        "    choice = random.randint(1,2)\n",
        "    if choice == 1:\n",
        "      result = task1(a,b,c)\n",
        "    if choice == 2:\n",
        "      result = task2(a,b,c)\n",
        "    \n",
        "    with open(\"/content/Input/input\" + str(i) + \".inp\", \"a\") as f:\n",
        "        f.write(str(choice) + str(a) + \" \" + str(b) + \" \" + str(c) + \"\\n\")\n",
        "    with open(\"/content/Output/output\" + str(i) + \".out\", \"a\") as f:\n",
        "        f.write(str(result) + \"\\n\")"
      ],
      "metadata": {
        "id": "CFA6DiXAsOYi"
      },
      "execution_count": 89,
      "outputs": []
    },
    {
      "cell_type": "code",
      "source": [
        "!mkdir problem2"
      ],
      "metadata": {
        "id": "10E5PNqxaUKx"
      },
      "execution_count": 90,
      "outputs": []
    },
    {
      "cell_type": "code",
      "source": [
        "!mv Input problem2\n",
        "!mv Output problem2"
      ],
      "metadata": {
        "id": "1cKlUTINadsF"
      },
      "execution_count": 91,
      "outputs": []
    },
    {
      "cell_type": "code",
      "source": [
        "!mv problem2 /content/drive/MyDrive/CS112"
      ],
      "metadata": {
        "id": "pNZnWPCzaikG"
      },
      "execution_count": 92,
      "outputs": []
    }
  ]
}