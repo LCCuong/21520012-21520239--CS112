{
  "nbformat": 4,
  "nbformat_minor": 0,
  "metadata": {
    "colab": {
      "provenance": []
    },
    "kernelspec": {
      "name": "python3",
      "display_name": "Python 3"
    },
    "language_info": {
      "name": "python"
    }
  },
  "cells": [
    {
      "cell_type": "code",
      "execution_count": 3,
      "metadata": {
        "colab": {
          "base_uri": "https://localhost:8080/"
        },
        "id": "2u0ocv3oLM2S",
        "outputId": "02209919-00cf-40f0-deae-cd1d5ffd36b1"
      },
      "outputs": [
        {
          "output_type": "stream",
          "name": "stdout",
          "text": [
            "4\n",
            "Arrangement 1\n",
            "..Q.\n",
            "Q...\n",
            "...Q\n",
            ".Q..\n",
            "\n",
            "Arrangement 2\n",
            ".Q..\n",
            "...Q\n",
            "Q...\n",
            "..Q.\n",
            "\n"
          ]
        }
      ],
      "source": [
        "class Solution:\n",
        "    def isSafe1(self, row, col, board, n):\n",
        "        duprow = row\n",
        "        dupcol = col\n",
        "\n",
        "        while row >= 0 and col >= 0:\n",
        "            if board[row][col] == 'Q':\n",
        "                return False\n",
        "            row -= 1\n",
        "            col -= 1\n",
        "\n",
        "        col = dupcol\n",
        "        row = duprow\n",
        "        while col >= 0:\n",
        "            if board[row][col] == 'Q':\n",
        "                return False\n",
        "            col -= 1\n",
        "\n",
        "        row = duprow\n",
        "        col = dupcol\n",
        "        while row < n and col >= 0:\n",
        "            if board[row][col] == 'Q':\n",
        "                return False\n",
        "            row += 1\n",
        "            col -= 1\n",
        "\n",
        "        return True\n",
        "\n",
        "    def solve(self, col, board, ans, n):\n",
        "        if col == n:\n",
        "            ans.append(list(board))\n",
        "            return\n",
        "\n",
        "        for row in range(n):\n",
        "            if self.isSafe1(row, col, board, n):\n",
        "                board[row] = board[row][:col] + 'Q' + board[row][col+1:]\n",
        "                self.solve(col+1, board, ans, n)\n",
        "                board[row] = board[row][:col] + '.' + board[row][col+1:]\n",
        "\n",
        "    def solveNQueens(self, n):\n",
        "        ans = []\n",
        "        board = ['.'*n for _ in range(n)]\n",
        "        self.solve(0, board, ans, n)\n",
        "        return ans\n",
        "\n",
        "n = int(input())\n",
        "obj = Solution()\n",
        "ans = obj.solveNQueens(n)\n",
        "for i in range(len(ans)):\n",
        "    print(f\"Arrangement {i+1}\")\n",
        "    for j in range(len(ans[0])):\n",
        "        print(ans[i][j])\n",
        "    print()"
      ]
    },
    {
      "cell_type": "code",
      "source": [],
      "metadata": {
        "id": "6076pAdlL2hC"
      },
      "execution_count": null,
      "outputs": []
    }
  ]
}