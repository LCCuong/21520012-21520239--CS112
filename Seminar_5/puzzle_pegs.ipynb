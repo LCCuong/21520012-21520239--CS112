{
  "nbformat": 4,
  "nbformat_minor": 0,
  "metadata": {
    "colab": {
      "provenance": []
    },
    "kernelspec": {
      "name": "python3",
      "display_name": "Python 3"
    },
    "language_info": {
      "name": "python"
    }
  },
  "cells": [
    {
      "cell_type": "code",
      "source": [
        "start_state = [[1],\n",
        "               [1, 1],\n",
        "               [1, 1, 1],\n",
        "               [1, 1, 1, 1],\n",
        "               [1, 1, 0, 1, 1]]\n",
        "starting_point = [4, 2]"
      ],
      "metadata": {
        "id": "C28ukHLqLcSH"
      },
      "execution_count": 518,
      "outputs": []
    },
    {
      "cell_type": "code",
      "source": [
        "def check_jump(state, y, x):\n",
        "  jump = []\n",
        "  if (state[y][x] == 1):\n",
        "    if (x+2 <= y) and (state[y][x+1] == 1) and (state[y][x+2] == 0):\n",
        "      jump.append([0, 2])\n",
        "    if (x-2 >= 0) and (state[y][x-1] == 1) and (state[y][x-2] == 0):\n",
        "      jump.append([0, -2])\n",
        "    if (y+2 <= len(state) - 1) and (state[y+1][x] == 1) and (state[y+2][x] == 0):\n",
        "      jump.append([2, 0])\n",
        "    if (y-2 >= x) and (state[y-1][x] == 1) and (state[y-2][x] == 0):\n",
        "      jump.append([-2, 0])\n",
        "    if (y+2 <= len(state) - 1) and (state[y+1][x+1] == 1) and (state[y+2][x+2] == 0):\n",
        "      jump.append([2, 2])\n",
        "    if (x-2 >= 0) and (state[y-1][x-1] == 1) and (state[y-2][x-2] == 0):\n",
        "      jump.append([-2, -2])\n",
        "  return jump"
      ],
      "metadata": {
        "id": "CNLh1w3JMmFM"
      },
      "execution_count": 519,
      "outputs": []
    },
    {
      "cell_type": "code",
      "source": [
        "def check_enable(state):\n",
        "  cnt_done = 0\n",
        "  cnt_undone = 0\n",
        "  cnt_1 = 0\n",
        "  for i in range(len(state)):\n",
        "    for j in range(len(state[i])):\n",
        "      if state[i][j] == 1:\n",
        "        cnt_1+=1\n",
        "      jump = check_jump(state, i, j)\n",
        "      if len(jump) > 0:\n",
        "        cnt_undone+=1\n",
        "      else:\n",
        "        if state[i][j] == 1:\n",
        "          cnt_done+=1\n",
        "  if cnt_1 == 1:\n",
        "    return 1\n",
        "  if cnt_done == 1 and cnt_undone == 0:\n",
        "    return 1\n",
        "  elif (cnt_done > 1 and cnt_undone == 0):\n",
        "    return -1\n",
        "  else:\n",
        "    return 0"
      ],
      "metadata": {
        "id": "zdc8-cXsQa4t"
      },
      "execution_count": 520,
      "outputs": []
    },
    {
      "cell_type": "code",
      "source": [
        "min_step = 2000000000\n",
        "best_seq = []\n",
        "#temp_seq = []"
      ],
      "metadata": {
        "id": "kTmxoY6CSJr-"
      },
      "execution_count": 521,
      "outputs": []
    },
    {
      "cell_type": "code",
      "source": [
        "def show(state):\n",
        "  for row in state:\n",
        "    print(row)"
      ],
      "metadata": {
        "id": "B8prcwg9XcfP"
      },
      "execution_count": 522,
      "outputs": []
    },
    {
      "cell_type": "markdown",
      "source": [
        "#Pegs puzzle with no condition of the final peg's position\n",
        "\n"
      ],
      "metadata": {
        "id": "qAPFVEvMB5bQ"
      }
    },
    {
      "cell_type": "code",
      "execution_count": 523,
      "metadata": {
        "id": "D4LzaPUsKhpE"
      },
      "outputs": [],
      "source": [
        "def BackTrack(state, step, temp_seq): # No condition of the final peg's position\n",
        "\n",
        "  #print(temp_seq)\n",
        "  #a = int(input())\n",
        "  stt = list(state)\n",
        "\n",
        "  if check_enable(stt) == 1:\n",
        "\n",
        "    global min_step\n",
        "    global best_seq\n",
        "    if step < min_step:\n",
        "      min_step = step\n",
        "\n",
        "   #   a = int(input())\n",
        "      best_seq = []\n",
        "      best_seq += temp_seq\n",
        "\n",
        "  elif check_enable(stt) == 0:\n",
        "    for i in range(len(stt)):\n",
        "      for j in range(len(stt[i])):\n",
        "        jump = check_jump(stt, i, j)\n",
        "        if len(jump) > 0:\n",
        "          for move in jump:\n",
        "    #        print(temp_seq)\n",
        "\n",
        "            stt[i + move[0]][j + move[1]] = 1\n",
        "            stt[i + move[0]//2][j + move[1]//2] = 0\n",
        "            stt[i][j] = 0\n",
        "     #       print(start_state)\n",
        "            tmp_seq = temp_seq + [stt]\n",
        "      #      print(\"-\"*20)\n",
        "            BackTrack(list(stt), step + 1, tmp_seq)\n",
        "            #temp_seq.pop()\n",
        "            stt[i + move[0]][j + move[1]] = 0\n",
        "            stt[i + move[0]//2][j + move[1]//2] = 1\n",
        "            stt[i][j] = 1\n",
        "  else:\n",
        "    return"
      ]
    },
    {
      "cell_type": "code",
      "source": [
        "BackTrack(state = [[1],\n",
        "                   [1, 1],\n",
        "                   [1, 1, 1],\n",
        "                   [1, 1, 1, 1],\n",
        "                   [1, 1, 0, 1, 1]], \n",
        "          step = 0, \n",
        "          temp_seq = [start_state])"
      ],
      "metadata": {
        "id": "d54DJIkdUeCb"
      },
      "execution_count": 524,
      "outputs": []
    },
    {
      "cell_type": "code",
      "source": [
        "#for step in best_seq:\n",
        "#  print(\"-\"*len(best_seq[len(best_seq)-1])*2)\n",
        "#  show(step)\n",
        "print(\"shortest sequence length = \", min_step)"
      ],
      "metadata": {
        "colab": {
          "base_uri": "https://localhost:8080/"
        },
        "id": "BxYDpAVhUkfe",
        "outputId": "6bee7ca5-2022-4966-8e75-a39716dc8147"
      },
      "execution_count": 525,
      "outputs": [
        {
          "output_type": "stream",
          "name": "stdout",
          "text": [
            "shortest sequence length =  13\n"
          ]
        }
      ]
    },
    {
      "cell_type": "markdown",
      "source": [
        "#Remaining peg at the empty hole of the initial board"
      ],
      "metadata": {
        "id": "qHO_SFOfCBkV"
      }
    },
    {
      "cell_type": "code",
      "source": [
        "def final_pos(state):\n",
        "  for i in range(len(state)):\n",
        "      for j in range(len(state[i])):\n",
        "        if state[i][j] == 1:\n",
        "          return [i, j]"
      ],
      "metadata": {
        "id": "Vr-xacx7Chy1"
      },
      "execution_count": 528,
      "outputs": []
    },
    {
      "cell_type": "code",
      "source": [
        "min_step = 2000000000\n",
        "best_seq = []"
      ],
      "metadata": {
        "id": "gYqWUQfjCzmO"
      },
      "execution_count": 529,
      "outputs": []
    },
    {
      "cell_type": "code",
      "source": [
        "def BackTrack_condition(state, step, temp_seq): # No condition of the final peg's position\n",
        "\n",
        "  stt = list(state)\n",
        "\n",
        "  if check_enable(stt) == 1:\n",
        "    global starting_point\n",
        "    if final_pos(state) == starting_point:\n",
        "      global min_step\n",
        "      global best_seq\n",
        "      if step < min_step:\n",
        "        min_step = step\n",
        "\n",
        "        best_seq = []\n",
        "        best_seq += temp_seq\n",
        "\n",
        "  elif check_enable(stt) == 0:\n",
        "    for i in range(len(stt)):\n",
        "      for j in range(len(stt[i])):\n",
        "        jump = check_jump(stt, i, j)\n",
        "        if len(jump) > 0:\n",
        "          for move in jump:\n",
        "\n",
        "            stt[i + move[0]][j + move[1]] = 1\n",
        "            stt[i + move[0]//2][j + move[1]//2] = 0\n",
        "            stt[i][j] = 0\n",
        "\n",
        "            tmp_seq = temp_seq + [stt]\n",
        "\n",
        "            BackTrack(list(stt), step + 1, tmp_seq)\n",
        "\n",
        "            stt[i + move[0]][j + move[1]] = 0\n",
        "            stt[i + move[0]//2][j + move[1]//2] = 1\n",
        "            stt[i][j] = 1\n",
        "  else:\n",
        "    return"
      ],
      "metadata": {
        "id": "kBIMGe5nB331"
      },
      "execution_count": 530,
      "outputs": []
    },
    {
      "cell_type": "code",
      "source": [
        "BackTrack_condition(state = [[1],\n",
        "                             [1, 1],\n",
        "                             [1, 1, 1],\n",
        "                             [1, 1, 1, 1],\n",
        "                             [1, 1, 0, 1, 1]], \n",
        "                    step = 0, \n",
        "                    temp_seq = [start_state])"
      ],
      "metadata": {
        "id": "e8aOufZPCuXl"
      },
      "execution_count": 531,
      "outputs": []
    },
    {
      "cell_type": "code",
      "source": [
        "print(\"shortest sequence length = \", min_step)"
      ],
      "metadata": {
        "colab": {
          "base_uri": "https://localhost:8080/"
        },
        "id": "j7f-j6OAC2Ns",
        "outputId": "b8fb34db-9865-48b9-9076-c2286a37727f"
      },
      "execution_count": 532,
      "outputs": [
        {
          "output_type": "stream",
          "name": "stdout",
          "text": [
            "shortest sequence length =  13\n"
          ]
        }
      ]
    }
  ]
}