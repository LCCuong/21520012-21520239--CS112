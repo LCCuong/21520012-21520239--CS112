{
  "nbformat": 4,
  "nbformat_minor": 0,
  "metadata": {
    "colab": {
      "provenance": []
    },
    "kernelspec": {
      "name": "python3",
      "display_name": "Python 3"
    },
    "language_info": {
      "name": "python"
    }
  },
  "cells": [
    {
      "cell_type": "code",
      "execution_count": null,
      "metadata": {
        "colab": {
          "base_uri": "https://localhost:8080/"
        },
        "id": "uyJVwwhM2h2J",
        "outputId": "6df0c981-0a7b-44fe-864c-9263e634b032"
      },
      "outputs": [
        {
          "output_type": "stream",
          "name": "stdout",
          "text": [
            "4 3\n",
            "2 8 10\n",
            "[120, 504, 66]\n"
          ]
        }
      ],
      "source": [
        "mod = int(1e9+7)\n",
        "dp = [[0] * 3 for _ in range(3000005)]\n",
        "\n",
        "def combination(n, k):\n",
        "    if k==0 or k==n:\n",
        "      return 1\n",
        "    else:\n",
        "     return combination(n-1, k)%mod + combination(n-1, k-1)%mod\n",
        "\n",
        "def init():\n",
        "    dp[3 * n][0] = 1\n",
        "    for i in range(3 * n - 1, 0, -1):\n",
        "        dp[i][0] = (dp[i + 1][1] - dp[i + 1][0] + combination(3 * n + 1, i + 1) + mod * mod) % mod\n",
        "        dp[i][1] = (dp[i + 1][2] - dp[i + 1][1] + mod * mod) % mod\n",
        "        dp[i][2] = (dp[i + 1][0] - dp[i + 1][2] + mod * mod) % mod\n",
        "\n",
        "def process():\n",
        "  global n, q\n",
        "  n, q = map(int, input().split())\n",
        "  queries = list(map(int, input().split()))\n",
        "  ans = []\n",
        "\n",
        "  for k in queries:\n",
        "    ans.append(dp[k][0])\n",
        "\n",
        "  print(ans)\n",
        "\n",
        "init()\n",
        "process()"
      ]
    },
    {
      "cell_type": "code",
      "source": [],
      "metadata": {
        "id": "0J3-XWdUCIko"
      },
      "execution_count": null,
      "outputs": []
    }
  ]
}